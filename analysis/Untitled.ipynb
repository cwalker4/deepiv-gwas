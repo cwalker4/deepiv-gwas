{
 "cells": [
  {
   "cell_type": "code",
   "execution_count": 1,
   "metadata": {},
   "outputs": [],
   "source": [
    "\"Read, split and save the datasets for our model\"\"\"\n",
    "import csv\n",
    "import os\n",
    "import sys\n",
    "import pandas as pd\n",
    "import numpy as np\n",
    "from sklearn import tree\n",
    "import graphviz"
   ]
  },
  {
   "cell_type": "code",
   "execution_count": null,
   "metadata": {},
   "outputs": [],
   "source": [
    "print(\"Loading expression...\")\n",
    "expression_levels = pd.read_csv('data/simulate/covariance/expression.csv')\n",
    "#expression_levels = pd.read_csv('data/treatment/test/expression.csv')\n",
    "print(\"- done.\\nLoading outcomes...\")\n",
    "outcomes = pd.read_csv('data/simulate/covariance/outcomes.csv')\n",
    "#outcomes = pd.read_csv('data/response/test/outcomes.csv')\n",
    "print(\"- done.\")"
   ]
  },
  {
   "cell_type": "code",
   "execution_count": 14,
   "metadata": {},
   "outputs": [
    {
     "name": "stdout",
     "output_type": "stream",
     "text": [
      "Fitting tree...\n",
      "- done.\n"
     ]
    }
   ],
   "source": [
    "decision_tree = tree.DecisionTreeClassifier(criterion='entropy', max_depth = 3) #max_depth = 20\n",
    "print(\"Fitting tree...\")\n",
    "decision_tree = decision_tree.fit(expression_levels, outcomes)\n",
    "print(\"- done.\")"
   ]
  },
  {
   "cell_type": "code",
   "execution_count": 17,
   "metadata": {},
   "outputs": [],
   "source": [
    "dot_data = tree.export_graphviz(decision_tree, out_file=None, filled=True,\n",
    "                               rotate=True)\n",
    "graph = graphviz.Source(dot_data)\n",
    "\n",
    "\n",
    "\n",
    "\n",
    "# with open(\"figures/decision_tree.dot\", \"w\") as f:\n",
    "#     f = tree.export_graphviz(decision_tree, out_file=f)\n",
    "\n",
    "\n",
    "#### Put this into the command line in the folder \"figures\" to get pdf of results\n",
    "#dot -Tpdf decision_tree.dot -o decision_tree.pdf\n",
    "#open -a preview decision_tree.pdf"
   ]
  },
  {
   "cell_type": "code",
   "execution_count": 18,
   "metadata": {},
   "outputs": [
    {
     "data": {
      "text/plain": [
       "'graph.pdf'"
      ]
     },
     "execution_count": 18,
     "metadata": {},
     "output_type": "execute_result"
    }
   ],
   "source": [
    "graph.render('graph')"
   ]
  },
  {
   "cell_type": "code",
   "execution_count": null,
   "metadata": {},
   "outputs": [],
   "source": []
  }
 ],
 "metadata": {
  "kernelspec": {
   "display_name": "Python 3",
   "language": "python",
   "name": "python3"
  },
  "language_info": {
   "codemirror_mode": {
    "name": "ipython",
    "version": 3
   },
   "file_extension": ".py",
   "mimetype": "text/x-python",
   "name": "python",
   "nbconvert_exporter": "python",
   "pygments_lexer": "ipython3",
   "version": "3.6.4"
  }
 },
 "nbformat": 4,
 "nbformat_minor": 2
}
