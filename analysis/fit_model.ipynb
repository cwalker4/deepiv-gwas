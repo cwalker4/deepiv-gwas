{
 "cells": [
  {
   "cell_type": "markdown",
   "metadata": {},
   "source": [
    "## Training Model"
   ]
  },
  {
   "cell_type": "markdown",
   "metadata": {},
   "source": [
    "### Loading packages"
   ]
  },
  {
   "cell_type": "code",
   "execution_count": 8,
   "metadata": {},
   "outputs": [],
   "source": [
    "import numpy as np\n",
    "import pandas as pd\n",
    "import pdb\n",
    "\n",
    "from deepiv.models import Treatment, Response\n",
    "import deepiv.architectures as architectures\n",
    "import deepiv.densities as densities\n",
    "\n",
    "import tensorflow as tf\n",
    "\n",
    "from keras.layers import Input, Dense\n",
    "from keras.models import Model, Sequential\n",
    "from keras.layers.merge import Concatenate"
   ]
  },
  {
   "cell_type": "markdown",
   "metadata": {},
   "source": [
    "### Importing data"
   ]
  },
  {
   "cell_type": "code",
   "execution_count": 16,
   "metadata": {},
   "outputs": [],
   "source": [
    "expression_levels_raw = pd.read_csv('/Users/billyf/deepiv-gwas/derived_data/expression_levels_subset.csv')\n",
    "gene_variants_raw = pd.read_csv('/Users/billyf/deepiv-gwas/derived_data/gene_variants.csv')\n",
    "outcomes_raw = pd.read_csv('/Users/billyf/deepiv-gwas/derived_data/outcomes.csv')"
   ]
  },
  {
   "cell_type": "code",
   "execution_count": 23,
   "metadata": {},
   "outputs": [
    {
     "name": "stdout",
     "output_type": "stream",
     "text": [
      "Dim(z) =  (13980, 12667)\n",
      "Dim(p) =  (53196, 12667)\n",
      "Dim(y) =  (12666, 2)\n"
     ]
    }
   ],
   "source": [
    "# sanity check\n",
    "assert(gene_variants_raw.shape[1] - 1 == outcomes_raw.shape[0])\n",
    "print(\"Dim(z) = \", gene_variants_raw.shape)\n",
    "print(\"Dim(p) = \", expression_levels_raw.shape)\n",
    "print(\"Dim(y) = \", outcomes_raw.shape)"
   ]
  },
  {
   "cell_type": "code",
   "execution_count": 36,
   "metadata": {},
   "outputs": [
    {
     "name": "stdout",
     "output_type": "stream",
     "text": [
      "Dim(z) =  (12666, 13980)\n",
      "Dim(p) =  (12666, 2344)\n",
      "Dim(y) =  (12666,)\n"
     ]
    }
   ],
   "source": [
    "print(\"Dim(z) = \", gene_variants.shape)\n",
    "print(\"Dim(p) = \", expression_levels.shape)\n",
    "print(\"Dim(y) = \", outcomes.shape)"
   ]
  },
  {
   "cell_type": "markdown",
   "metadata": {},
   "source": [
    "### Training first stage model"
   ]
  },
  {
   "cell_type": "code",
   "execution_count": null,
   "metadata": {},
   "outputs": [
    {
     "name": "stdout",
     "output_type": "stream",
     "text": [
      "Fitting treatment\n",
      "WARNING:tensorflow:From /Users/Walker/anaconda3/lib/python3.6/site-packages/keras/backend/tensorflow_backend.py:1192: calling reduce_sum (from tensorflow.python.ops.math_ops) with keep_dims is deprecated and will be removed in a future version.\n",
      "Instructions for updating:\n",
      "keep_dims is deprecated, use keepdims instead\n",
      "WARNING:tensorflow:From /Users/Walker/anaconda3/lib/python3.6/site-packages/keras/backend/tensorflow_backend.py:1156: calling reduce_max (from tensorflow.python.ops.math_ops) with keep_dims is deprecated and will be removed in a future version.\n",
      "Instructions for updating:\n",
      "keep_dims is deprecated, use keepdims instead\n",
      "WARNING:tensorflow:From /Users/Walker/anaconda3/lib/python3.6/site-packages/keras/backend/tensorflow_backend.py:1299: calling reduce_mean (from tensorflow.python.ops.math_ops) with keep_dims is deprecated and will be removed in a future version.\n",
      "Instructions for updating:\n",
      "keep_dims is deprecated, use keepdims instead\n",
      "Epoch 1/118\n"
     ]
    }
   ],
   "source": [
    "n = len(outcomes)\n",
    "epochs = int(1500000./float(n)) # heuristic to get epochs\n",
    "batch_size = 100\n",
    "\n",
    "instruments = Input(shape=(gene_variants.shape[1],), name = \"instruments\")\n",
    "hidden = [7000, 4000, 3000]\n",
    "\n",
    "\n",
    "activation = \"relu\"\n",
    "\n",
    "n_components = expression_levels.shape[1]\n",
    "\n",
    "est_treat = architectures.feed_forward_net(instrum,\n",
    "                                          lambda x: densities.mixture_of_gaussian_output(x, n_components),\n",
    "                                          hidden_layers = hidden,\n",
    "                                          activations = activation)\n",
    "\n",
    "treatment_model = Treatment(inputs=[instruments], outputs=est_treat)\n",
    "print(\"Fitting treatment\")\n",
    "treatment_model.compile('adam',\n",
    "                       loss='mixture_of_gaussians',\n",
    "                       n_components = n_components)\n",
    "\n",
    "treatment_model.fit(gene_variants, expression_levels,\n",
    "                   epochs = epochs,\n",
    "                   batch_size = batch_size)"
   ]
  },
  {
   "cell_type": "code",
   "execution_count": 45,
   "metadata": {},
   "outputs": [
    {
     "data": {
      "text/plain": [
       "13980"
      ]
     },
     "execution_count": 45,
     "metadata": {},
     "output_type": "execute_result"
    }
   ],
   "source": []
  },
  {
   "cell_type": "code",
   "execution_count": null,
   "metadata": {},
   "outputs": [],
   "source": []
  }
 ],
 "metadata": {
  "kernelspec": {
   "display_name": "Python 3",
   "language": "python",
   "name": "python3"
  },
  "language_info": {
   "codemirror_mode": {
    "name": "ipython",
    "version": 3
   },
   "file_extension": ".py",
   "mimetype": "text/x-python",
   "name": "python",
   "nbconvert_exporter": "python",
   "pygments_lexer": "ipython3",
   "version": "3.6.4"
  }
 },
 "nbformat": 4,
 "nbformat_minor": 2
}
